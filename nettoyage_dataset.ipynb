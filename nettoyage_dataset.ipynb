{
 "cells": [
  {
   "cell_type": "code",
   "execution_count": null,
   "id": "806ca786",
   "metadata": {},
   "outputs": [],
   "source": [
    "import pandas as pd\n",
    "from ftfy import fix_text\n",
    "\n",
    "# Étape 1 : Lire le fichier CSV mal encodé\n",
    "df = pd.read_csv(\"fr-en-translation.csv\", encoding=\"latin1\")\n",
    "\n",
    "# Étape 2 : Renommer les colonnes si nécessaire\n",
    "df.columns = [\"en\", \"fr\", \"drop\"][:len(df.columns)]\n",
    "\n",
    "# Étape 3 : Supprimer les colonnes inutiles et les lignes vides\n",
    "df = df[[\"fr\", \"en\"]].dropna()\n",
    "\n",
    "# Étape 4 : Corriger les erreurs d'encodage (ex: \"Ã©\" → \"é\", \"Ã \" → \"à\")\n",
    "df[\"fr\"] = df[\"fr\"].apply(fix_text).str.strip()\n",
    "df[\"en\"] = df[\"en\"].apply(fix_text).str.strip()\n",
    "\n",
    "# Étape 5 : Sauvegarder un fichier nettoyé\n",
    "df.to_csv(\"sample_fr_en_clean.csv\", index=False, encoding=\"utf-8\")\n"
   ]
  }
 ],
 "metadata": {
  "language_info": {
   "name": "python"
  }
 },
 "nbformat": 4,
 "nbformat_minor": 5
}
